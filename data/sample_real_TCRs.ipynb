{
 "cells": [
  {
   "cell_type": "code",
   "execution_count": 1,
   "metadata": {},
   "outputs": [],
   "source": [
    "import pandas as pd\n",
    "import numpy as np\n",
    "import random"
   ]
  },
  {
   "cell_type": "code",
   "execution_count": 2,
   "metadata": {},
   "outputs": [],
   "source": [
    "def process_scaffolds(csv_file):\n",
    "    seq_table = pd.read_csv(csv_file)\n",
    "    scaffolds = []\n",
    "    scaffold_ids = []\n",
    "    for row in range(seq_table.shape[0]):\n",
    "        id = seq_table.iloc[row, 0]\n",
    "        sequence = ''.join(seq_table.iloc[row, 1])\n",
    "        scaffolds.append(sequence.replace(\".\", \"\"))\n",
    "        scaffold_ids.append(id)\n",
    "    return pd.Series(scaffolds, index=scaffold_ids)"
   ]
  },
  {
   "cell_type": "code",
   "execution_count": 3,
   "metadata": {},
   "outputs": [],
   "source": [
    "trbv_set = process_scaffolds('TRBV_human_imgt.csv')\n",
    "trbj_set = process_scaffolds('TRBJ_human_imgt.csv')\n",
    "trbc = open('TRBC_human_imgt.txt').read()"
   ]
  },
  {
   "cell_type": "code",
   "execution_count": 4,
   "metadata": {},
   "outputs": [],
   "source": [
    "def make_TCR_seq(trbv_id, cdr3b, trbj_id):\n",
    "    return trbv_set[trbv_id][:-5] + cdr3b + trbj_set[trbj_id] + trbc"
   ]
  },
  {
   "cell_type": "code",
   "execution_count": 5,
   "metadata": {},
   "outputs": [],
   "source": [
    "tcr_beta_dataset = pd.read_csv('TRB_CDR3_human_VDJdb.tsv', delimiter='\\t')\n",
    "tcr_beta_dataset = tcr_beta_dataset[tcr_beta_dataset['Gene'] == 'TRB']\n",
    "tcr_beta_dataset = tcr_beta_dataset.sample(100)"
   ]
  },
  {
   "cell_type": "code",
   "execution_count": 6,
   "metadata": {},
   "outputs": [],
   "source": [
    "output = {'TRBV':[], 'TRBJ':[], 'CDR3':[], 'seq':[]}\n",
    "for i in range(100):\n",
    "    tcr = tcr_beta_dataset.iloc[i, :]\n",
    "    output['TRBV'].append(tcr.V[:-3])\n",
    "    output['CDR3'].append(tcr.CDR3)\n",
    "    output['TRBJ'].append(tcr.J[:-3])\n",
    "    output['seq'].append(make_TCR_seq(tcr.V[:-3], tcr.CDR3, tcr.J[:-3]))\n",
    "\n",
    "pd.DataFrame(output).to_csv('native_TCRbeta_seqs.csv')"
   ]
  }
 ],
 "metadata": {
  "kernelspec": {
   "display_name": "datasci_env",
   "language": "python",
   "name": "python3"
  },
  "language_info": {
   "codemirror_mode": {
    "name": "ipython",
    "version": 3
   },
   "file_extension": ".py",
   "mimetype": "text/x-python",
   "name": "python",
   "nbconvert_exporter": "python",
   "pygments_lexer": "ipython3",
   "version": "3.11.8"
  }
 },
 "nbformat": 4,
 "nbformat_minor": 2
}
